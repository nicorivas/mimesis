{
 "cells": [
  {
   "cell_type": "code",
   "execution_count": 1,
   "metadata": {},
   "outputs": [],
   "source": [
    "from mimesis.prompt.prompt import PromptTemplate"
   ]
  },
  {
   "cell_type": "code",
   "execution_count": 6,
   "metadata": {},
   "outputs": [
    {
     "name": "stdout",
     "output_type": "stream",
     "text": [
      "{'title': 'TOML Example', 'version': {'name': '1.0', 'date': datetime.datetime(2023, 8, 21, 20, 58, tzinfo=datetime.timezone(datetime.timedelta(days=-1, seconds=72000)))}, 'prompt': {'text': 'The SBI (Situation-Behavior-Impact) framework is a structured method for providing specific, clear, and meaningful feedback. Here\\'s a short description of each component:\\n\\nSituation: Begin by describing the specific situation where the behavior occurred. It\\'s important to ground your feedback in a real, tangible event or moment to provide context. For example, \"During our team meeting yesterday...\"\\n\\nBehavior: Then, articulate the behavior you observed. The behavior should be an objective description of what the person did, without attaching any interpretations or value judgments. For example, \"I noticed that you interrupted others while they were speaking...\"\\n\\nImpact: Finally, explain the impact that this behavior had. The impact can be on you, the team, the project, or any other relevant stakeholder. It\\'s essential to focus on how the behavior affected the situation, not on the person’s intentions. For example, \"This made some team members feel unheard and may have prevented us from hearing valuable insights.\"\\n\\nThis framework can be used for giving both positive and constructive feedback. The key is to be as specific and factual as possible, and focus on observable behaviors, not on assumed intentions.\\n\\nYou are a Senior Coach. Your are tasked with providing me clear guidelines and tips to give proper feedback to a colleague or worker.\\n\\nNow, consider the following situation as context: \\n\\n{{situation}}\\n\\nFirst identify if the above context describes a positive situation that should be reinforced and scaled, or a negative situation that should be avoided or mitigated.\\n\\nThen elaborate and provide guidelines to hold a feedback meeting using the SBI framework. Please provide specific recommendations (including how to behave and what to say) and suggested topics of conversation, always considering specific elements of the situation given as context. Please provide the answer in the markdown format.\\n'}}\n"
     ]
    }
   ],
   "source": [
    "pt = PromptTemplate(filename=\"FeedbackGuidelines\")\n",
    "pt.load()"
   ]
  },
  {
   "cell_type": "code",
   "execution_count": null,
   "metadata": {},
   "outputs": [],
   "source": []
  }
 ],
 "metadata": {
  "kernelspec": {
   "display_name": "llm",
   "language": "python",
   "name": "python3"
  },
  "language_info": {
   "codemirror_mode": {
    "name": "ipython",
    "version": 3
   },
   "file_extension": ".py",
   "mimetype": "text/x-python",
   "name": "python",
   "nbconvert_exporter": "python",
   "pygments_lexer": "ipython3",
   "version": "3.11.4"
  },
  "orig_nbformat": 4
 },
 "nbformat": 4,
 "nbformat_minor": 2
}
